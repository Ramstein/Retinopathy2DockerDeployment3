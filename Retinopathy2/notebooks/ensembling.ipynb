{
 "cells": [
  {
   "cell_type": "code",
   "execution_count": 1,
   "metadata": {
    "collapsed": true,
    "pycharm": {
     "is_executing": false
    }
   },
   "outputs": [],
   "source": [
    "from functools import partial\n",
    "from pprint import pprint\n",
    "\n",
    "import numpy as np\n",
    "import pandas as pd\n",
    "import scipy as sp\n",
    "from sklearn import metrics\n",
    "\n",
    "from Retinopathy2.retinopathy.callbacks import cohen_kappa_score, plot_matrix\n",
    "from Retinopathy2.retinopathy.models.heads import regression_to_class"
   ]
  },
  {
   "cell_type": "code",
   "execution_count": 2,
   "outputs": [],
   "source": [
    "class OptimizedRounder(object):\n",
    "    def __init__(self):\n",
    "        self.coef_ = 0\n",
    "\n",
    "    def _kappa_loss(self, coef, X, y):\n",
    "        X_p = np.copy(X)\n",
    "        for i, pred in enumerate(X_p):\n",
    "            if pred < coef[0]:\n",
    "                X_p[i] = 0\n",
    "            elif pred >= coef[0] and pred < coef[1]:\n",
    "                X_p[i] = 1\n",
    "            elif pred >= coef[1] and pred < coef[2]:\n",
    "                X_p[i] = 2\n",
    "            elif pred >= coef[2] and pred < coef[3]:\n",
    "                X_p[i] = 3\n",
    "            else:\n",
    "                X_p[i] = 4\n",
    "\n",
    "        ll = metrics.cohen_kappa_score(y, X_p, weights='quadratic')\n",
    "        return -ll\n",
    "\n",
    "    def fit(self, X, y):\n",
    "        loss_partial = partial(self._kappa_loss, X=X, y=y)\n",
    "        initial_coef = [0.5, 1.5, 2.5, 3.5]\n",
    "        self.coef_ = sp.optimize.minimize(loss_partial, initial_coef, method='nelder-mead')\n",
    "\n",
    "    def predict(self, X, coef):\n",
    "        X_p = np.copy(X)\n",
    "        for i, pred in enumerate(X_p):\n",
    "            if pred < coef[0]:\n",
    "                X_p[i] = 0\n",
    "            elif pred >= coef[0] and pred < coef[1]:\n",
    "                X_p[i] = 1\n",
    "            elif pred >= coef[1] and pred < coef[2]:\n",
    "                X_p[i] = 2\n",
    "            elif pred >= coef[2] and pred < coef[3]:\n",
    "                X_p[i] = 3\n",
    "            else:\n",
    "                X_p[i] = 4\n",
    "        return X_p\n",
    "\n",
    "    def coefficients(self):\n",
    "        return self.coef_['x']"
   ],
   "metadata": {
    "collapsed": false,
    "pycharm": {
     "name": "#%%\n",
     "is_executing": false
    }
   }
  },
  {
   "cell_type": "code",
   "execution_count": 3,
   "outputs": [
    {
     "name": "stdout",
     "text": [
      "1928",
      " ",
      "[ 305  258 1116  189   60]",
      " ",
      "[15 13 57  9  3]",
      "\n",
      "3662",
      " ",
      "[1805  370  999  193  295]",
      " ",
      "[49 10 27  5  8]",
      "\n",
      "35126",
      " ",
      "[25810  2443  5292   873   708]",
      " ",
      "[73  6 15  2  2]",
      "\n",
      "42670",
      " ",
      "[31403  3042  6282   977   966]",
      " ",
      "[73  7 14  2  2]",
      "\n",
      "10906",
      " ",
      "[8130  720 1579  237  240]",
      " ",
      "[74  6 14  2  2]",
      "\n"
     ],
     "output_type": "stream"
    }
   ],
   "source": [
    "aptos2019_train = pd.read_csv('../data/aptos-2019/train.csv')\n",
    "# Distribution in best submit\n",
    "# 0 - 305\n",
    "# 1 - 258\n",
    "# 2 - 1116\n",
    "# 3 - 189\n",
    "# 4 - 60\n",
    "\n",
    "submit = [305,258,1116,189, 60]\n",
    "aptos2019_train = [\n",
    "    (aptos2019_train['diagnosis'] == 0).sum(),\n",
    "    (aptos2019_train['diagnosis'] == 1).sum(),\n",
    "    (aptos2019_train['diagnosis'] == 2).sum(),\n",
    "    (aptos2019_train['diagnosis'] == 3).sum(),\n",
    "    (aptos2019_train['diagnosis'] == 4).sum(),\n",
    "]\n",
    "\n",
    "aptos2015_train = pd.read_csv('../data/aptos-2015/train_labels.csv')\n",
    "aptos2015_train = [\n",
    "    (aptos2015_train['diagnosis'] == 0).sum(),\n",
    "    (aptos2015_train['diagnosis'] == 1).sum(),\n",
    "    (aptos2015_train['diagnosis'] == 2).sum(),\n",
    "    (aptos2015_train['diagnosis'] == 3).sum(),\n",
    "    (aptos2015_train['diagnosis'] == 4).sum(),    \n",
    "]\n",
    "\n",
    "aptos2015_test = pd.read_csv('../data/aptos-2015/test_labels.csv')\n",
    "\n",
    "aptos2015_test_private = aptos2015_test[aptos2015_test['Usage']=='Private']\n",
    "aptos2015_test_public = aptos2015_test[aptos2015_test['Usage']=='Public']\n",
    "\n",
    "aptos2015_test_public = [\n",
    "    (aptos2015_test_public['diagnosis'] == 0).sum(),\n",
    "    (aptos2015_test_public['diagnosis'] == 1).sum(),\n",
    "    (aptos2015_test_public['diagnosis'] == 2).sum(),\n",
    "    (aptos2015_test_public['diagnosis'] == 3).sum(),\n",
    "    (aptos2015_test_public['diagnosis'] == 4).sum(),    \n",
    "]\n",
    "aptos2015_test_private = np.array([\n",
    "    (aptos2015_test_private['diagnosis'] == 0).sum(),\n",
    "    (aptos2015_test_private['diagnosis'] == 1).sum(),\n",
    "    (aptos2015_test_private['diagnosis'] == 2).sum(),\n",
    "    (aptos2015_test_private['diagnosis'] == 3).sum(),\n",
    "    (aptos2015_test_private['diagnosis'] == 4).sum(),    \n",
    "])\n",
    "\n",
    "def print_distribution(x):\n",
    "    x = np.array(x)\n",
    "    print(x.sum(),x, (100 * x / x.sum()).astype(int))\n",
    "    \n",
    "\n",
    "print_distribution(submit)\n",
    "print_distribution(aptos2019_train)\n",
    "print_distribution(aptos2015_train)\n",
    "print_distribution(aptos2015_test_private)\n",
    "print_distribution(aptos2015_test_public)"
   ],
   "metadata": {
    "collapsed": false,
    "pycharm": {
     "name": "#%%\n",
     "is_executing": false
    }
   }
  },
  {
   "cell_type": "code",
   "execution_count": 4,
   "outputs": [],
   "source": [
    "def evaluate_predictions(df):\n",
    "    \n",
    "    if 'cls_diagnosis' not in df:\n",
    "        cls_diagnosis = df['logits'].apply(np.argmax)\n",
    "    else:\n",
    "        cls_diagnosis = df['cls_diagnosis']\n",
    "\n",
    "    if 'reg_diagnosis' not in df:\n",
    "        reg_diagnosis = df['regression'].apply(regression_to_class).apply(int)\n",
    "    else:\n",
    "        reg_diagnosis = df['reg_diagnosis']\n",
    "\n",
    "    if 'ord_diagnosis' not in df:\n",
    "        ord_diagnosis = df['ordinal'].apply(regression_to_class).apply(int)\n",
    "    else:\n",
    "        ord_diagnosis = df['ord_diagnosis']\n",
    "        \n",
    "    y_true = df['diagnosis'].values\n",
    "    cls_score, _, _ = cohen_kappa_score(y_true, \n",
    "                      cls_diagnosis.values, \n",
    "                      weights='quadratic')\n",
    "    \n",
    "    reg_score, _, _ = cohen_kappa_score(y_true, \n",
    "                      reg_diagnosis.values, \n",
    "                      weights='quadratic')\n",
    "\n",
    "    ord_score, _, _ = cohen_kappa_score(y_true, \n",
    "                      ord_diagnosis.values, \n",
    "                      weights='quadratic')\n",
    "    \n",
    "    optR = OptimizedRounder()\n",
    "    optR.fit(df['regression'], df['diagnosis'])\n",
    "    coefficients = optR.coefficients()\n",
    "    reg_optimized = optR.predict(df['regression'], coefficients)\n",
    "    \n",
    "    reg_score_opt, _, _ = cohen_kappa_score(df['diagnosis'].values, \n",
    "                              reg_optimized, \n",
    "                              weights='quadratic')\n",
    "\n",
    "    optR.fit(df['regression'], df['diagnosis'])\n",
    "    coefficients = optR.coefficients()\n",
    "    org_optimized = optR.predict(df['ordinal'], coefficients)\n",
    "\n",
    "    ord_score_opt, _, _ = cohen_kappa_score(df['diagnosis'].values, \n",
    "                              org_optimized, \n",
    "                              weights='quadratic')\n",
    "    \n",
    "    return {\n",
    "        'cls_score': cls_score,\n",
    "        'reg_score': reg_score,\n",
    "        'ord_score': ord_score,\n",
    "        'reg_score_opt': reg_score_opt,\n",
    "        'ord_score_opt': ord_score_opt\n",
    "    }\n",
    "\n",
    "def average_predictions_voting(predictions):\n",
    "    result = predictions[0].copy()\n",
    "    \n",
    "    cls_predictions = []\n",
    "    for p in predictions:\n",
    "        cls_predictions.append(p['logits'].apply(np.argmax).tolist())\n",
    "                \n",
    "    reg_predictions = []\n",
    "    for p in predictions:\n",
    "        reg_predictions.append(p['regression'].apply(regression_to_class).apply(int).tolist())\n",
    "\n",
    "    ord_predictions = []\n",
    "    for p in predictions:\n",
    "        ord_predictions.append(p['ordinal'].apply(regression_to_class).apply(int).tolist())\n",
    "    \n",
    "    cls_predictions = np.moveaxis(np.array(cls_predictions), 0,-1)\n",
    "    ord_predictions = np.moveaxis(np.array(ord_predictions), 0,-1)\n",
    "    reg_predictions = np.moveaxis(np.array(reg_predictions), 0,-1)\n",
    "    \n",
    "    result['cls_diagnosis'] = [np.bincount(x).argmax() for x in cls_predictions]\n",
    "    result['ord_diagnosis'] = [np.bincount(x).argmax() for x in ord_predictions]\n",
    "    result['reg_diagnosis'] = [np.bincount(x).argmax() for x in reg_predictions]\n",
    "    \n",
    "    return result"
   ],
   "metadata": {
    "collapsed": false,
    "pycharm": {
     "name": "#%%\n",
     "is_executing": false
    }
   }
  },
  {
   "cell_type": "code",
   "execution_count": 5,
   "outputs": [],
   "source": [
    "def drop_features(df:pd.DataFrame):\n",
    "    if 'features' in df:\n",
    "        df = df.drop(columns=['features'])\n",
    "    return df"
   ],
   "metadata": {
    "collapsed": false,
    "pycharm": {
     "name": "#%%\n",
     "is_executing": false
    }
   }
  },
  {
   "cell_type": "code",
   "execution_count": 6,
   "outputs": [],
   "source": [
    "oof_predictions = [\n",
    "    # eloquent_yonath\n",
    "    [\n",
    "        '../pretrained/806_813_eloquent_yonath/seresnext50d_gwap_512_medium_aptos2019_messidor_idrid_fold0_eloquent_yonath_oof_predictions.pkl',\n",
    "        '../pretrained/806_813_eloquent_yonath/seresnext50d_gwap_512_medium_aptos2019_messidor_idrid_fold1_eloquent_yonath_oof_predictions.pkl',\n",
    "        '../pretrained/806_813_eloquent_yonath/seresnext50d_gwap_512_medium_aptos2019_messidor_idrid_fold2_eloquent_yonath_oof_predictions.pkl',\n",
    "        '../pretrained/806_813_eloquent_yonath/seresnext50d_gwap_512_medium_aptos2019_messidor_idrid_fold3_eloquent_yonath_oof_predictions.pkl',                \n",
    "    ],\n",
    "    # eloquent_yonath_tuned\n",
    "    [\n",
    "        '../pretrained/806_813_eloquent_yonath_finetuned/seresnext50d_gwap_512_medium_aptos2019_messidor_idrid_fold0_eloquent_yonath_tuned_oof_predictions.pkl',\n",
    "        '../pretrained/806_813_eloquent_yonath_finetuned/seresnext50d_gwap_512_medium_aptos2019_messidor_idrid_fold1_eloquent_yonath_tuned_oof_predictions.pkl',\n",
    "        '../pretrained/806_813_eloquent_yonath_finetuned/seresnext50d_gwap_512_medium_aptos2019_messidor_idrid_fold2_eloquent_yonath_tuned_oof_predictions.pkl',\n",
    "        '../pretrained/806_813_eloquent_yonath_finetuned/seresnext50d_gwap_512_medium_aptos2019_messidor_idrid_fold3_eloquent_yonath_tuned_oof_predictions.pkl',        \n",
    "    ],\n",
    "    # zen_golik_tuned\n",
    "    [\n",
    "        '../pretrained/Aug14_11_10_zen_golick_finetuned/seresnext50d_gwap_512_medium_aptos2019_messidor_idrid_fold2_zen_golick_tuned_oof_predictions.pkl',\n",
    "        '../pretrained/Aug14_11_10_zen_golick_finetuned/seresnext50d_gwap_512_medium_aptos2019_messidor_idrid_fold0_zen_golick_tuned_oof_predictions.pkl',\n",
    "        '../pretrained/Aug14_11_10_zen_golick_finetuned/seresnext50d_gwap_512_medium_aptos2019_messidor_idrid_fold1_zen_golick_tuned_oof_predictions.pkl',\n",
    "        '../pretrained/Aug14_11_10_zen_golick_finetuned/seresnext50d_gwap_512_medium_aptos2019_messidor_idrid_fold3_zen_golick_tuned_oof_predictions.pkl'\n",
    "    ]\n",
    "]\n",
    "\n",
    "idrid_predictions = [\n",
    "    # eloquent_yonath\n",
    "    [\n",
    "        '../pretrained/806_813_eloquent_yonath/seresnext50d_gwap_512_medium_aptos2019_messidor_idrid_fold0_eloquent_yonath_idrid_test_predictions.pkl',\n",
    "        '../pretrained/806_813_eloquent_yonath/seresnext50d_gwap_512_medium_aptos2019_messidor_idrid_fold1_eloquent_yonath_idrid_test_predictions.pkl',\n",
    "        '../pretrained/806_813_eloquent_yonath/seresnext50d_gwap_512_medium_aptos2019_messidor_idrid_fold2_eloquent_yonath_idrid_test_predictions.pkl',\n",
    "        '../pretrained/806_813_eloquent_yonath/seresnext50d_gwap_512_medium_aptos2019_messidor_idrid_fold3_eloquent_yonath_idrid_test_predictions.pkl',        \n",
    "\n",
    "    ],\n",
    "    # eloquent_yonath_tuned\n",
    "    [\n",
    "        '../pretrained/806_813_eloquent_yonath_finetuned/seresnext50d_gwap_512_medium_aptos2019_messidor_idrid_fold0_eloquent_yonath_tuned_idrid_test_predictions.pkl',\n",
    "        '../pretrained/806_813_eloquent_yonath_finetuned/seresnext50d_gwap_512_medium_aptos2019_messidor_idrid_fold1_eloquent_yonath_tuned_idrid_test_predictions.pkl',\n",
    "        '../pretrained/806_813_eloquent_yonath_finetuned/seresnext50d_gwap_512_medium_aptos2019_messidor_idrid_fold2_eloquent_yonath_tuned_idrid_test_predictions.pkl',\n",
    "        '../pretrained/806_813_eloquent_yonath_finetuned/seresnext50d_gwap_512_medium_aptos2019_messidor_idrid_fold3_eloquent_yonath_tuned_idrid_test_predictions.pkl',\n",
    "    ],\n",
    "    # zen_golik_tuned\n",
    "    [\n",
    "        '../pretrained/Aug14_11_10_zen_golick_finetuned/seresnext50d_gwap_512_medium_aptos2019_messidor_idrid_fold0_zen_golick_tuned_idrid_test_predictions.pkl',\n",
    "        '../pretrained/Aug14_11_10_zen_golick_finetuned/seresnext50d_gwap_512_medium_aptos2019_messidor_idrid_fold1_zen_golick_tuned_idrid_test_predictions.pkl',\n",
    "        '../pretrained/Aug14_11_10_zen_golick_finetuned/seresnext50d_gwap_512_medium_aptos2019_messidor_idrid_fold2_zen_golick_tuned_idrid_test_predictions.pkl',\n",
    "        '../pretrained/Aug14_11_10_zen_golick_finetuned/seresnext50d_gwap_512_medium_aptos2019_messidor_idrid_fold3_zen_golick_tuned_idrid_test_predictions.pkl'\n",
    "    ]\n",
    "]\n",
    "\n",
    "aptos2015_test = [\n",
    "    # eloquent_yonath\n",
    "    [\n",
    "        '../pretrained/806_813_eloquent_yonath/seresnext50d_gwap_512_medium_aptos2019_messidor_idrid_fold0_eloquent_yonath_aptos2015_test_predictions.pkl',\n",
    "        '../pretrained/806_813_eloquent_yonath/seresnext50d_gwap_512_medium_aptos2019_messidor_idrid_fold1_eloquent_yonath_aptos2015_test_predictions.pkl',\n",
    "        '../pretrained/806_813_eloquent_yonath/seresnext50d_gwap_512_medium_aptos2019_messidor_idrid_fold2_eloquent_yonath_aptos2015_test_predictions.pkl',\n",
    "        '../pretrained/806_813_eloquent_yonath/seresnext50d_gwap_512_medium_aptos2019_messidor_idrid_fold3_eloquent_yonath_aptos2015_test_predictions.pkl'\n",
    "    ],\n",
    "    [\n",
    "        '../pretrained/806_813_eloquent_yonath_finetuned/seresnext50d_gwap_512_medium_aptos2019_messidor_idrid_fold0_eloquent_yonath_tuned_aptos2015_test_predictions.pkl',\n",
    "        '../pretrained/806_813_eloquent_yonath_finetuned/seresnext50d_gwap_512_medium_aptos2019_messidor_idrid_fold1_eloquent_yonath_tuned_aptos2015_test_predictions.pkl',\n",
    "        '../pretrained/806_813_eloquent_yonath_finetuned/seresnext50d_gwap_512_medium_aptos2019_messidor_idrid_fold2_eloquent_yonath_tuned_aptos2015_test_predictions.pkl',\n",
    "        '../pretrained/806_813_eloquent_yonath_finetuned/seresnext50d_gwap_512_medium_aptos2019_messidor_idrid_fold3_eloquent_yonath_tuned_aptos2015_test_predictions.pkl'\n",
    "    ],\n",
    "    # zen_golik_tuned\n",
    "    [\n",
    "        '../pretrained/Aug14_11_10_zen_golick_finetuned/seresnext50d_gwap_512_medium_aptos2019_messidor_idrid_fold0_zen_golick_tuned_aptos2015_test_predictions.pkl',\n",
    "        '../pretrained/Aug14_11_10_zen_golick_finetuned/seresnext50d_gwap_512_medium_aptos2019_messidor_idrid_fold1_zen_golick_tuned_aptos2015_test_predictions.pkl',\n",
    "        '../pretrained/Aug14_11_10_zen_golick_finetuned/seresnext50d_gwap_512_medium_aptos2019_messidor_idrid_fold2_zen_golick_tuned_aptos2015_test_predictions.pkl',\n",
    "        '../pretrained/Aug14_11_10_zen_golick_finetuned/seresnext50d_gwap_512_medium_aptos2019_messidor_idrid_fold3_zen_golick_tuned_aptos2015_test_predictions.pkl'\n",
    "    ]\n",
    "]\n",
    "\n",
    "aptos2019_test = [\n",
    "    # eloquent_yonath\n",
    "    [\n",
    "        '../pretrained/806_813_eloquent_yonath/seresnext50d_gwap_512_medium_aptos2019_messidor_idrid_fold0_eloquent_yonath_aptos2019_test_predictions.pkl',\n",
    "        '../pretrained/806_813_eloquent_yonath/seresnext50d_gwap_512_medium_aptos2019_messidor_idrid_fold1_eloquent_yonath_aptos2019_test_predictions.pkl',\n",
    "        '../pretrained/806_813_eloquent_yonath/seresnext50d_gwap_512_medium_aptos2019_messidor_idrid_fold2_eloquent_yonath_aptos2019_test_predictions.pkl',\n",
    "        '../pretrained/806_813_eloquent_yonath/seresnext50d_gwap_512_medium_aptos2019_messidor_idrid_fold3_eloquent_yonath_aptos2019_test_predictions.pkl'\n",
    "    ],\n",
    "    # eloquent_yonath_tuned\n",
    "    [\n",
    "        '../pretrained/806_813_eloquent_yonath_finetuned/seresnext50d_gwap_512_medium_aptos2019_messidor_idrid_fold0_eloquent_yonath_tuned_aptos2019_test_predictions.pkl',\n",
    "        '../pretrained/806_813_eloquent_yonath_finetuned/seresnext50d_gwap_512_medium_aptos2019_messidor_idrid_fold1_eloquent_yonath_tuned_aptos2019_test_predictions.pkl',\n",
    "        '../pretrained/806_813_eloquent_yonath_finetuned/seresnext50d_gwap_512_medium_aptos2019_messidor_idrid_fold2_eloquent_yonath_tuned_aptos2019_test_predictions.pkl',\n",
    "        '../pretrained/806_813_eloquent_yonath_finetuned/seresnext50d_gwap_512_medium_aptos2019_messidor_idrid_fold3_eloquent_yonath_tuned_aptos2019_test_predictions.pkl'\n",
    "    ],    \n",
    "    [\n",
    "        '../pretrained/Aug14_11_10_zen_golick_finetuned/seresnext50d_gwap_512_medium_aptos2019_messidor_idrid_fold0_zen_golick_tuned_aptos2019_test_predictions.pkl',\n",
    "        '../pretrained/Aug14_11_10_zen_golick_finetuned/seresnext50d_gwap_512_medium_aptos2019_messidor_idrid_fold1_zen_golick_tuned_aptos2019_test_predictions.pkl',\n",
    "        '../pretrained/Aug14_11_10_zen_golick_finetuned/seresnext50d_gwap_512_medium_aptos2019_messidor_idrid_fold2_zen_golick_tuned_aptos2019_test_predictions.pkl',\n",
    "        '../pretrained/Aug14_11_10_zen_golick_finetuned/seresnext50d_gwap_512_medium_aptos2019_messidor_idrid_fold3_zen_golick_tuned_aptos2019_test_predictions.pkl',\n",
    "    ]\n",
    "]"
   ],
   "metadata": {
    "collapsed": false,
    "pycharm": {
     "name": "#%%\n",
     "is_executing": false
    }
   }
  },
  {
   "cell_type": "code",
   "execution_count": 7,
   "outputs": [
    {
     "name": "stdout",
     "text": [
      "Model",
      " ",
      "0",
      "\n",
      "{",
      "'cls_score'",
      ": ",
      "0.9661645233451795",
      ",\n ",
      "'ord_score'",
      ": ",
      "0.0",
      ",\n ",
      "'ord_score_opt'",
      ": ",
      "0.0",
      ",\n ",
      "'reg_score'",
      ": ",
      "0.9677775996149371",
      ",\n ",
      "'reg_score_opt'",
      ": ",
      "0.9683677756189432",
      "}",
      "\n",
      "Model",
      " ",
      "1",
      "\n",
      "{",
      "'cls_score'",
      ": ",
      "0.9668472437403195",
      ",\n ",
      "'ord_score'",
      ": ",
      "0.9680320404990821",
      ",\n ",
      "'ord_score_opt'",
      ": ",
      "0.9676697813520029",
      ",\n ",
      "'reg_score'",
      ": ",
      "0.9685358412678617",
      ",\n ",
      "'reg_score_opt'",
      ": ",
      "0.969012703009653",
      "}",
      "\n",
      "Model",
      " ",
      "2",
      "\n",
      "{",
      "'cls_score'",
      ": ",
      "0.9361854909758479",
      ",\n ",
      "'ord_score'",
      ": ",
      "0.9419968388643427",
      ",\n ",
      "'ord_score_opt'",
      ": ",
      "0.9317038333042926",
      ",\n ",
      "'reg_score'",
      ": ",
      "0.7249185737439874",
      ",\n ",
      "'reg_score_opt'",
      ": ",
      "0.8395063324472763",
      "}",
      "\n"
     ],
     "output_type": "stream"
    }
   ],
   "source": [
    "oof_predictions_flatten = []\n",
    "for i, oof in enumerate(oof_predictions):\n",
    "    all_predictions = pd.concat([drop_features(pd.read_pickle(x)) for x in oof])\n",
    "    scores = evaluate_predictions(all_predictions)\n",
    "    print('Model', i)\n",
    "    pprint(scores)\n",
    "    oof_predictions_flatten.append(all_predictions)\n"
   ],
   "metadata": {
    "collapsed": false,
    "pycharm": {
     "name": "#%%\n",
     "is_executing": false
    }
   }
  },
  {
   "cell_type": "code",
   "execution_count": 8,
   "outputs": [],
   "source": [
    "def average_predictions_pd(predictions):\n",
    "    result = predictions[0].copy()\n",
    "    \n",
    "    for column in ['logits','regression','ordinal']:\n",
    "        accumulator = np.zeros_like(np.array(predictions[0][column].values.tolist())).astype(np.float32)\n",
    "        # print(accumulator.shape)\n",
    "        for p in predictions:\n",
    "            pred = np.array(p[column].values.tolist())\n",
    "            # if min is not None or max is not None:\n",
    "            #     pred = np.clip(pred, min, max)\n",
    "            accumulator += pred\n",
    "            # print(pred.shape)\n",
    "        accumulator /= len(predictions)\n",
    "        \n",
    "        result[column] = accumulator.tolist()\n",
    "        \n",
    "    return result"
   ],
   "metadata": {
    "collapsed": false,
    "pycharm": {
     "name": "#%%\n",
     "is_executing": false
    }
   }
  },
  {
   "cell_type": "code",
   "execution_count": 9,
   "outputs": [
    {
     "name": "stdout",
     "text": [
      "Scores on IDRID",
      "\n",
      "Model",
      " ",
      "0",
      " ",
      "per fold",
      "\n",
      "   cls_score  ord_score  ord_score_opt  reg_score  reg_score_opt\n0   0.923324        0.0            0.0   0.902972       0.907374\n1   0.916120        0.0            0.0   0.939737       0.946278\n2   0.937564        0.0            0.0   0.926579       0.933284\n3   0.948820        0.0            0.0   0.937154       0.949939",
      "\n",
      "Averaged score",
      "\n",
      "{",
      "'cls_score'",
      ": ",
      "0.9589343089659701",
      ",\n ",
      "'ord_score'",
      ": ",
      "0.0",
      ",\n ",
      "'ord_score_opt'",
      ": ",
      "0.0",
      ",\n ",
      "'reg_score'",
      ": ",
      "0.9593227032630696",
      ",\n ",
      "'reg_score_opt'",
      ": ",
      "0.9701809408926417",
      "}",
      "\n",
      "Model",
      " ",
      "1",
      " ",
      "per fold",
      "\n",
      "   cls_score  ord_score  ord_score_opt  reg_score  reg_score_opt\n0   0.903904   0.905958       0.905958   0.918495       0.919472\n1   0.923607   0.931910       0.937752   0.939266       0.948133\n2   0.935092   0.926020       0.926020   0.931137       0.931137\n3   0.933012   0.936836       0.944047   0.931087       0.945602",
      "\n",
      "Averaged score",
      "\n",
      "{",
      "'cls_score'",
      ": ",
      "0.9589343089659701",
      ",\n ",
      "'ord_score'",
      ": ",
      "0.9562654544546295",
      ",\n ",
      "'ord_score_opt'",
      ": ",
      "0.9562654544546295",
      ",\n ",
      "'reg_score'",
      ": ",
      "0.9648618353720941",
      ",\n ",
      "'reg_score_opt'",
      ": ",
      "0.9674090300596325",
      "}",
      "\n",
      "Model",
      " ",
      "2",
      " ",
      "per fold",
      "\n",
      "   cls_score  ord_score  ord_score_opt  reg_score  reg_score_opt\n0   0.809377   0.833951       0.833951   0.835691       0.835691\n1   0.785831   0.792485       0.780563   0.765299       0.784439\n2   0.812832   0.825092       0.843544   0.698612       0.792592\n3   0.791711   0.820041       0.782719   0.067144       0.306946",
      "\n",
      "Averaged score",
      "\n",
      "{",
      "'cls_score'",
      ": ",
      "0.8141066289449295",
      ",\n ",
      "'ord_score'",
      ": ",
      "0.8249043773905652",
      ",\n ",
      "'ord_score_opt'",
      ": ",
      "0.7825087536417823",
      ",\n ",
      "'reg_score'",
      ": ",
      "0.6536439227194912",
      ",\n ",
      "'reg_score_opt'",
      ": ",
      "0.6990870359099208",
      "}",
      "\n"
     ],
     "output_type": "stream"
    }
   ],
   "source": [
    "print('Scores on IDRID')\n",
    "for i, per_fold_predictions in enumerate(idrid_predictions):\n",
    "    per_fold_predictions = [drop_features(pd.read_pickle(x)) for x in per_fold_predictions]\n",
    "    per_fold_scores = []\n",
    "    for p in per_fold_predictions:\n",
    "        per_fold_scores.append(evaluate_predictions(p))\n",
    "    df = pd.DataFrame.from_records(per_fold_scores)\n",
    "    \n",
    "    averaged_idrid = average_predictions_pd(per_fold_predictions)\n",
    "    scores = evaluate_predictions(averaged_idrid)\n",
    "    \n",
    "    print('Model', i,'per fold')\n",
    "    print(df)\n",
    "    print('Averaged score')\n",
    "    pprint(scores)"
   ],
   "metadata": {
    "collapsed": false,
    "pycharm": {
     "name": "#%%\n",
     "is_executing": false
    }
   }
  },
  {
   "cell_type": "code",
   "execution_count": 10,
   "outputs": [
    {
     "name": "stdout",
     "text": [
      "Scores on APTOS2015",
      "\n",
      "Model",
      " ",
      "0",
      " ",
      "per fold",
      "\n",
      "   cls_score  ord_score  ord_score_opt  reg_score  reg_score_opt\n0   0.553644        0.0      -0.000044   0.565727       0.580166\n1   0.569620        0.0       0.000000   0.586505       0.609301\n2   0.566706        0.0       0.000000   0.576125       0.599635\n3   0.583379        0.0       0.000000   0.597037       0.611333",
      "\n",
      "Averaged score",
      "\n",
      "{",
      "'cls_score'",
      ": ",
      "0.590829515168313",
      ",\n ",
      "'ord_score'",
      ": ",
      "0.0",
      ",\n ",
      "'ord_score_opt'",
      ": ",
      "3.632851390544811e-05",
      ",\n ",
      "'reg_score'",
      ": ",
      "0.6028985240041496",
      ",\n ",
      "'reg_score_opt'",
      ": ",
      "0.6269192585215598",
      "}",
      "\n",
      "\n",
      "Model",
      " ",
      "1",
      " ",
      "per fold",
      "\n",
      "   cls_score  ord_score  ord_score_opt  reg_score  reg_score_opt\n0   0.546211   0.557801       0.573593   0.563906       0.578635\n1   0.565384   0.562136       0.594750   0.586305       0.614672\n2   0.543929   0.565619       0.581476   0.563574       0.591760\n3   0.581099   0.594077       0.606240   0.600671       0.615980",
      "\n",
      "Averaged score",
      "\n",
      "{",
      "'cls_score'",
      ": ",
      "0.57875473326728",
      ",\n ",
      "'ord_score'",
      ": ",
      "0.5947256497328951",
      ",\n ",
      "'ord_score_opt'",
      ": ",
      "0.621008864179488",
      ",\n ",
      "'reg_score'",
      ": ",
      "0.601007164426512",
      ",\n ",
      "'reg_score_opt'",
      ": ",
      "0.6278778399208271",
      "}",
      "\n",
      "\n",
      "Model",
      " ",
      "2",
      " ",
      "per fold",
      "\n",
      "   cls_score  ord_score  ord_score_opt  reg_score  reg_score_opt\n0   0.552848   0.570796       0.590798   0.567703       0.591582\n1   0.527870   0.551126       0.569173   0.550200       0.590558\n2   0.536860   0.563023       0.550337   0.541369       0.591589\n3   0.507638   0.533176       0.530389   0.033145       0.355256",
      "\n",
      "Averaged score",
      "\n",
      "{",
      "'cls_score'",
      ": ",
      "0.5416080673417356",
      ",\n ",
      "'ord_score'",
      ": ",
      "0.5702622418336708",
      ",\n ",
      "'ord_score_opt'",
      ": ",
      "0.5237978681626128",
      ",\n ",
      "'reg_score'",
      ": ",
      "0.5051810319238981",
      ",\n ",
      "'reg_score_opt'",
      ": ",
      "0.6039048793954183",
      "}",
      "\n",
      "\n"
     ],
     "output_type": "stream"
    }
   ],
   "source": [
    "print('Scores on APTOS2015')\n",
    "for i, per_fold_predictions in enumerate(aptos2015_test):\n",
    "    per_fold_predictions = [drop_features(pd.read_pickle(x)) for x in per_fold_predictions]\n",
    "    per_fold_scores = []\n",
    "    for p in per_fold_predictions:\n",
    "        per_fold_scores.append(evaluate_predictions(p))\n",
    "    df = pd.DataFrame.from_records(per_fold_scores)\n",
    "    \n",
    "    averaged_idrid = average_predictions_pd(per_fold_predictions)\n",
    "    scores = evaluate_predictions(averaged_idrid)\n",
    "    \n",
    "    print('Model', i,'per fold')\n",
    "    print(df)\n",
    "    print('Averaged score')\n",
    "    pprint(scores)\n",
    "    print()\n",
    "\n",
    "    "
   ],
   "metadata": {
    "collapsed": false,
    "pycharm": {
     "name": "#%%\n",
     "is_executing": false
    }
   }
  },
  {
   "cell_type": "code",
   "execution_count": 11,
   "outputs": [],
   "source": [
    "predictions = []\n",
    "\n",
    "for i, per_fold_predictions in enumerate(aptos2019_test[1:]):\n",
    "    for df in [drop_features(pd.read_pickle(x)) for x in per_fold_predictions]:\n",
    "        df['cls_diagnosis'] = df['logits'].apply(np.argmax)\n",
    "        df['reg_diagnosis'] = df['regression'].apply(regression_to_class).apply(int)\n",
    "        df['ord_diagnosis'] = df['ordinal'].apply(regression_to_class).apply(int)\n",
    "        \n",
    "        predictions.append(df)\n",
    "    "
   ],
   "metadata": {
    "collapsed": false,
    "pycharm": {
     "name": "#%%\n",
     "is_executing": false
    }
   }
  },
  {
   "cell_type": "code",
   "execution_count": 12,
   "outputs": [
    {
     "name": "stderr",
     "text": [
      "D:\\Develop\\Kaggle\\Kaggle-2019-Blindness-Detection\\retinopathy\\callbacks.py:149: UserWarning:\n\nMatplotlib is currently using agg, which is a non-GUI backend, so cannot show the figure.\n\n"
     ],
     "output_type": "stream"
    },
    {
     "data": {
      "text/plain": "<Figure size 576x576 with 1 Axes>",
      "image/png": "[encoded data removed]"
     },
     "metadata": {},
     "output_type": "execute_result",
     "execution_count": 12
    }
   ],
   "source": [
    "N = len(predictions)\n",
    "pearson_cls_matrix = np.zeros((N,N))\n",
    "pearson_ord_matrix = np.zeros((N,N))\n",
    "pearson_reg_matrix = np.zeros((N,N))\n",
    "for i in range(N):\n",
    "    for j in range(N):\n",
    "        pearson_cls_matrix[i,j] = predictions[i]['cls_diagnosis'].corr(predictions[j]['cls_diagnosis'], method='pearson')\n",
    "        pearson_reg_matrix[i,j] = predictions[i]['reg_diagnosis'].corr(predictions[j]['reg_diagnosis'], method='pearson')\n",
    "        pearson_ord_matrix[i,j] = predictions[i]['ord_diagnosis'].corr(predictions[j]['ord_diagnosis'], method='pearson')\n",
    "        \n",
    "plot_matrix(pearson_cls_matrix, figsize=(8,8), class_names=range(N), title='Pearson corr matrix for classification')"
   ],
   "metadata": {
    "collapsed": false,
    "pycharm": {
     "name": "#%%\n",
     "is_executing": false
    }
   }
  },
  {
   "cell_type": "code",
   "execution_count": 13,
   "outputs": [
    {
     "data": {
      "text/plain": "<Figure size 576x576 with 1 Axes>",
      "image/png": "[encoded data removed]"
     },
     "metadata": {},
     "output_type": "execute_result",
     "execution_count": 13
    }
   ],
   "source": [
    "plot_matrix(pearson_reg_matrix, figsize=(8,8),class_names=range(N), title='Pearson corr matrix for regression')"
   ],
   "metadata": {
    "collapsed": false,
    "pycharm": {
     "name": "#%%\n",
     "is_executing": false
    }
   }
  },
  {
   "cell_type": "code",
   "execution_count": 14,
   "outputs": [
    {
     "data": {
      "text/plain": "<Figure size 576x576 with 1 Axes>",
      "image/png": "[encoded data removed]"
     },
     "metadata": {},
     "output_type": "execute_result",
     "execution_count": 14
    }
   ],
   "source": [
    "plot_matrix(pearson_ord_matrix, figsize=(8,8),class_names=range(N), title='Pearson corr matrix for ordinal')"
   ],
   "metadata": {
    "collapsed": false,
    "pycharm": {
     "name": "#%%\n",
     "is_executing": false
    }
   }
  },
  {
   "cell_type": "code",
   "execution_count": 15,
   "outputs": [
    {
     "name": "stdout",
     "text": [
      "(42670, 48)",
      " ",
      "(42670,)",
      "\n"
     ],
     "output_type": "stream"
    }
   ],
   "source": [
    "# Make train\n",
    "\n",
    "\n",
    "x_features = []\n",
    "y = None\n",
    "\n",
    "for i, per_fold_predictions in enumerate(aptos2015_test[1:]):    \n",
    "    for df in [drop_features(pd.read_pickle(x)) for x in per_fold_predictions]:     \n",
    "        logits = np.array(df['logits'].values.tolist())\n",
    "        ordinal = np.array(df['ordinal'].tolist()).reshape(-1,1)\n",
    "        \n",
    "        x = np.concatenate([logits, ordinal], axis=1)\n",
    "        x_features.append(x)\n",
    "        y = df['diagnosis'].values\n",
    "\n",
    "x_features = np.concatenate(x_features, axis=1)\n",
    "print(x_features.shape, y.shape)"
   ],
   "metadata": {
    "collapsed": false,
    "pycharm": {
     "name": "#%%\n",
     "is_executing": false
    }
   }
  },
  {
   "cell_type": "code",
   "execution_count": 16,
   "outputs": [
    {
     "name": "stdout",
     "text": [
      "(103, 48)",
      " ",
      "(103,)",
      "\n"
     ],
     "output_type": "stream"
    }
   ],
   "source": [
    "holdout_x = []\n",
    "holdout_y = []\n",
    "for i, per_fold_predictions in enumerate(idrid_predictions[1:]):    \n",
    "    for df in [drop_features(pd.read_pickle(x)) for x in per_fold_predictions]:     \n",
    "        logits = np.array(df['logits'].values.tolist())\n",
    "        ordinal = np.array(df['ordinal'].tolist()).reshape(-1,1)\n",
    "        \n",
    "        x = np.concatenate([logits, ordinal], axis=1)\n",
    "        holdout_x.append(x)\n",
    "        holdout_y = df['diagnosis'].values\n",
    "\n",
    "holdout_x = np.concatenate(holdout_x, axis=1)\n",
    "print(holdout_x.shape, holdout_y.shape)\n"
   ],
   "metadata": {
    "collapsed": false,
    "pycharm": {
     "name": "#%%\n",
     "is_executing": false
    }
   }
  },
  {
   "cell_type": "code",
   "execution_count": 17,
   "outputs": [],
   "source": [
    "from sklearn.preprocessing import StandardScaler\n",
    "from sklearn.model_selection import train_test_split\n",
    "\n",
    "scaler = StandardScaler()\n",
    "x_features = scaler.fit_transform(x_features)\n",
    "holdout_x = scaler.transform(holdout_x)\n",
    "\n",
    "X_train, X_test, y_train, y_test = train_test_split(x_features, y, test_size=.25, random_state=42, stratify=y)\n"
   ],
   "metadata": {
    "collapsed": false,
    "pycharm": {
     "name": "#%%\n",
     "is_executing": false
    }
   }
  },
  {
   "cell_type": "code",
   "execution_count": 18,
   "outputs": [],
   "source": [
    "from sklearn.neural_network import MLPClassifier\n",
    "from sklearn.tree import DecisionTreeClassifier\n",
    "from sklearn.ensemble import RandomForestClassifier, AdaBoostClassifier\n",
    "\n",
    "names = [\n",
    "    # \"Nearest Neighbors\", \n",
    "    #      \"Linear SVM\", \n",
    "    #      \"RBF SVM\", \n",
    "    #      \"Gaussian Process\",\n",
    "         \"Decision Tree\",\n",
    "         \"Decision Tree\",\n",
    "         \"Random Forest\", \n",
    "         \"Random Forest\", \n",
    "         \"Neural Net\", \n",
    "         \"Neural Net\", \n",
    "         \"AdaBoost\",\n",
    "         \"AdaBoost\",\n",
    "         # \"Naive Bayes\", \n",
    "         # \"QDA\"\n",
    "         ]\n",
    "\n",
    "classifiers = [\n",
    "    # KNeighborsClassifier(3),\n",
    "    # SVC(kernel=\"linear\", C=0.025),\n",
    "    # SVC(gamma=2, C=1),\n",
    "    # GaussianProcessClassifier(1.0 * RBF(1.0)),\n",
    "    # DecisionTreeClassifier(max_depth=5),\n",
    "    # DecisionTreeClassifier(max_depth=10),\n",
    "    RandomForestClassifier(max_depth=5, n_estimators=32, max_features=10),\n",
    "    RandomForestClassifier(max_depth=4, n_estimators=32, max_features=6),\n",
    "    # MLPClassifier(alpha=1, max_iter=1000),\n",
    "    # MLPClassifier(alpha=0.01, max_iter=1000),\n",
    "    AdaBoostClassifier(),\n",
    "    AdaBoostClassifier(learning_rate=0.1),\n",
    "    # GaussianNB(),\n",
    "    # QuadraticDiscriminantAnalysis()\n",
    "]\n"
   ],
   "metadata": {
    "collapsed": false,
    "pycharm": {
     "name": "#%%\n",
     "is_executing": false
    }
   }
  },
  {
   "cell_type": "code",
   "execution_count": 19,
   "outputs": [
    {
     "name": "stdout",
     "text": [
      "0.7919010123734533",
      " ",
      "0.5779758643724118",
      " ",
      "0.8770215999131662",
      "\n",
      "0.7882452193475815",
      " ",
      "0.5674660849468813",
      " ",
      "0.8489799338109003",
      "\n",
      "0.7771841019872516",
      " ",
      "0.5750617322737381",
      " ",
      "0.7251990794484837",
      "\n",
      "0.7789651293588301",
      " ",
      "0.5446426440073768",
      " ",
      "0.8011931917880329",
      "\n"
     ],
     "output_type": "stream"
    }
   ],
   "source": [
    " # iterate over classifiers\n",
    "for clf in classifiers:\n",
    "    clf.fit(X_train, y_train)\n",
    "    score = clf.score(X_test, y_test)\n",
    "    \n",
    "    y_pred = clf.predict(X_test)\n",
    "    kappa_test,_,_= cohen_kappa_score(y_pred, \n",
    "                              y_test, \n",
    "                              weights='quadratic')\n",
    "\n",
    "    y_pred_hold = clf.predict(holdout_x)\n",
    "    kappa_hold,_,_= cohen_kappa_score(holdout_y, \n",
    "                              y_pred_hold, \n",
    "                              weights='quadratic')\n",
    "\n",
    "    print(score, kappa_test, kappa_hold)"
   ],
   "metadata": {
    "collapsed": false,
    "pycharm": {
     "name": "#%%\n",
     "is_executing": false
    }
   }
  },
  {
   "cell_type": "code",
   "execution_count": 21,
   "outputs": [
    {
     "name": "stdout",
     "text": [
      "{'max_depth': 8, 'max_features': 16, 'n_estimators': 64}",
      "\n",
      "0.8539517026242883",
      "\n"
     ],
     "output_type": "stream"
    }
   ],
   "source": [
    "from sklearn.ensemble import RandomForestClassifier\n",
    "from sklearn.model_selection import GridSearchCV\n",
    "\n",
    "#create a new random forest classifier\n",
    "rf = RandomForestClassifier()\n",
    "#create a dictionary of all values we want to test for n_estimators\n",
    "params_rf = {'n_estimators': [32, 64, 128], \n",
    "             'max_depth':[2,4,8],\n",
    "             'max_features':[4,8,16]}\n",
    "#use gridsearch to test all values for n_estimators\n",
    "rf_gs = GridSearchCV(rf, params_rf, cv=5)\n",
    "#fit model to training data\n",
    "rf_gs.fit(x_features, y)\n",
    "\n",
    "#save best model\n",
    "rf_best = rf_gs.best_estimator_\n",
    "#check best n_estimators value\n",
    "print(rf_gs.best_params_)\n",
    "\n",
    "y_pred_hold = rf_best.predict(holdout_x)\n",
    "kappa_hold,_,_= cohen_kappa_score(holdout_y, \n",
    "                          y_pred_hold, \n",
    "                          weights='quadratic')\n",
    "\n",
    "print(kappa_hold)"
   ],
   "metadata": {
    "collapsed": false,
    "pycharm": {
     "name": "#%%\n",
     "is_executing": false
    }
   }
  },
  {
   "cell_type": "code",
   "execution_count": 22,
   "outputs": [
    {
     "name": "stdout",
     "text": [
      "0.7789651293588301",
      " ",
      "0.5446426440073768",
      " ",
      "0.8011931917880329",
      "\n"
     ],
     "output_type": "stream"
    }
   ],
   "source": [
    "cls = RandomForestClassifier(max_depth=5, n_estimators=32, max_features=10)\n",
    "cls.fit(X_train, y_train)\n",
    "score = clf.score(X_test, y_test)\n",
    "y_pred = clf.predict(X_test)\n",
    "kappa_test,_,_= cohen_kappa_score(y_pred, \n",
    "                          y_test, \n",
    "                          weights='quadratic')\n",
    "\n",
    "y_pred_hold = clf.predict(holdout_x)\n",
    "kappa_hold,_,_= cohen_kappa_score(holdout_y, \n",
    "                          y_pred_hold, \n",
    "                          weights='quadratic')\n",
    "\n",
    "print(score, kappa_test, kappa_hold)"
   ],
   "metadata": {
    "collapsed": false,
    "pycharm": {
     "name": "#%%\n",
     "is_executing": false
    }
   }
  },
  {
   "cell_type": "code",
   "execution_count": 23,
   "outputs": [
    {
     "name": "stdout",
     "text": [
      "0.7789651293588301",
      " ",
      "0.5446426440073768",
      " ",
      "0.8011931917880329",
      "\n"
     ],
     "output_type": "stream"
    }
   ],
   "source": [
    "cls = RandomForestClassifier(max_depth=8, n_estimators=64, max_features=16)\n",
    "cls.fit(X_train, y_train)\n",
    "score = clf.score(X_test, y_test)\n",
    "y_pred = clf.predict(X_test)\n",
    "kappa_test,_,_= cohen_kappa_score(y_pred, \n",
    "                          y_test, \n",
    "                          weights='quadratic')\n",
    "\n",
    "y_pred_hold = clf.predict(holdout_x)\n",
    "kappa_hold,_,_= cohen_kappa_score(holdout_y, \n",
    "                          y_pred_hold, \n",
    "                          weights='quadratic')\n",
    "\n",
    "print(score, kappa_test, kappa_hold)\n",
    "\n"
   ],
   "metadata": {
    "collapsed": false,
    "pycharm": {
     "name": "#%%\n",
     "is_executing": false
    }
   }
  },
  {
   "cell_type": "code",
   "execution_count": 26,
   "outputs": [
    {
     "name": "stdout",
     "text": [
      "103",
      "\n",
      "(103,)",
      "\n"
     ],
     "output_type": "stream"
    }
   ],
   "source": [
    "df = pd.read_pickle('../pretrained/Aug18_19_45_youthful_mccarthy/seresnext50d_gapv2_512_medium_aptos2019_messidor_idrid_fold0_youthful_mccarthy_idrid_test_predictions.pkl')\n",
    "print(len(df))\n",
    "features = df['features'].values\n",
    "print(features.shape)"
   ],
   "metadata": {
    "collapsed": false,
    "pycharm": {
     "name": "#%%\n",
     "is_executing": false
    }
   }
  },
  {
   "cell_type": "code",
   "execution_count": 27,
   "outputs": [
    {
     "data": {
      "text/plain": "    image_id  diagnosis                                             logits  \\\n0  IDRiD_001          4  [0.0002004421257879585, 0.003722419962286949, ...   \n1  IDRiD_002          4  [0.07064065337181091, 0.18897408246994019, 0.4...   \n2  IDRiD_003          4  [0.03960813209414482, 0.13607507944107056, 0.5...   \n3  IDRiD_004          4  [0.00197446346282959, 0.018390433862805367, 0....   \n4  IDRiD_005          4  [0.0024857562966644764, 0.017686881124973297, ...   \n\n   regression   ordinal                                           features  \n0    0.223030  3.837633  [0.0, 0.8950192928314209, 3.9884204864501953, ...  \n1    0.100043  2.138892  [0.11608928442001343, 0.0029698400758206844, 0...  \n2    0.053579  2.181868  [0.0059122927486896515, 0.039692386984825134, ...  \n3    0.011290  3.743105  [0.0, 0.4652225375175476, 3.844611406326294, 0...  \n4   -0.067265  3.641033  [0.0016629655146971345, 0.22062775492668152, 3...  ",
      "text/html": "<div>\n<style scoped>\n    .dataframe tbody tr th:only-of-type {\n        vertical-align: middle;\n    }\n\n    .dataframe tbody tr th {\n        vertical-align: top;\n    }\n\n    .dataframe thead th {\n        text-align: right;\n    }\n</style>\n<table border=\"1\" class=\"dataframe\">\n  <thead>\n    <tr style=\"text-align: right;\">\n      <th></th>\n      <th>image_id</th>\n      <th>diagnosis</th>\n      <th>logits</th>\n      <th>regression</th>\n      <th>ordinal</th>\n      <th>features</th>\n    </tr>\n  </thead>\n  <tbody>\n    <tr>\n      <th>0</th>\n      <td>IDRiD_001</td>\n      <td>4</td>\n      <td>[0.0002004421257879585, 0.003722419962286949, ...</td>\n      <td>0.223030</td>\n      <td>3.837633</td>\n      <td>[0.0, 0.8950192928314209, 3.9884204864501953, ...</td>\n    </tr>\n    <tr>\n      <th>1</th>\n      <td>IDRiD_002</td>\n      <td>4</td>\n      <td>[0.07064065337181091, 0.18897408246994019, 0.4...</td>\n      <td>0.100043</td>\n      <td>2.138892</td>\n      <td>[0.11608928442001343, 0.0029698400758206844, 0...</td>\n    </tr>\n    <tr>\n      <th>2</th>\n      <td>IDRiD_003</td>\n      <td>4</td>\n      <td>[0.03960813209414482, 0.13607507944107056, 0.5...</td>\n      <td>0.053579</td>\n      <td>2.181868</td>\n      <td>[0.0059122927486896515, 0.039692386984825134, ...</td>\n    </tr>\n    <tr>\n      <th>3</th>\n      <td>IDRiD_004</td>\n      <td>4</td>\n      <td>[0.00197446346282959, 0.018390433862805367, 0....</td>\n      <td>0.011290</td>\n      <td>3.743105</td>\n      <td>[0.0, 0.4652225375175476, 3.844611406326294, 0...</td>\n    </tr>\n    <tr>\n      <th>4</th>\n      <td>IDRiD_005</td>\n      <td>4</td>\n      <td>[0.0024857562966644764, 0.017686881124973297, ...</td>\n      <td>-0.067265</td>\n      <td>3.641033</td>\n      <td>[0.0016629655146971345, 0.22062775492668152, 3...</td>\n    </tr>\n  </tbody>\n</table>\n</div>"
     },
     "metadata": {},
     "output_type": "execute_result",
     "execution_count": 27
    }
   ],
   "source": [],
   "metadata": {
    "collapsed": false,
    "pycharm": {
     "name": "#%%\n",
     "is_executing": false
    }
   }
  },
  {
   "cell_type": "code",
   "execution_count": null,
   "outputs": [],
   "source": [
    "\n"
   ],
   "metadata": {
    "collapsed": false,
    "pycharm": {
     "name": "#%%\n"
    }
   }
  }
 ],
 "metadata": {
  "language_info": {
   "codemirror_mode": {
    "name": "ipython",
    "version": 2
   },
   "file_extension": ".py",
   "mimetype": "text/x-python",
   "name": "python",
   "nbconvert_exporter": "python",
   "pygments_lexer": "ipython2",
   "version": "2.7.6"
  },
  "kernelspec": {
   "name": "python3",
   "language": "python",
   "display_name": "Python 3"
  },
  "pycharm": {
   "stem_cell": {
    "cell_type": "raw",
    "source": [],
    "metadata": {
     "collapsed": false
    }
   }
  }
 },
 "nbformat": 4,
 "nbformat_minor": 0
}